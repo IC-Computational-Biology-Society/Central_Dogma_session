{
 "cells": [
  {
   "cell_type": "markdown",
   "metadata": {},
   "source": [
    "# Introduction to Python for The Central Dogma of Biology\n",
    "\n"
   ]
  },
  {
   "cell_type": "markdown",
   "metadata": {},
   "source": [
    "## Aims and objects \n",
    "\n",
    "The goal of this session is to let you practice working with basic biological sequence data in Python3.\n",
    "\n",
    "It is assumed attendees have a basic grasp of Python and have likely attended the Python 101 sessions held by DoCSoc. \n",
    "\n",
    "It is advised to use **Anaconda Python** for this session (you can access it through Imperial College AppsAnywhere service) but the main requirement is simply to have a working version of **Jupyter Notebook** with the **Python3 kernal**. You can alternatively write your script as a Python file and run it in a terminal. \n",
    "\n",
    "We recommend saving your Jupyter Notebook in the **same** directory as the files required for the session. \n",
    "\n",
    "By the end of the session, you should be able to:\n",
    " - Open and handle sequence data from a FASTA file (without using the Biopython module)\n",
    " - Translate a DNA into a protein sequence in all six reading frames\n",
    " - Search for short motifs/domains in a (protein) sequence."
   ]
  },
  {
   "cell_type": "markdown",
   "metadata": {},
   "source": [
    "## Required files\n",
    "\n",
    "If not downloaded, you can save the required files for today's session from our GitHub page. \n",
    "\n",
    "Please save them in a **new folder/directory** along with a blank Jupyter Notebook (or add to this one) for writing your code. \n",
    "\n",
    "You should have six files:\n",
    "- ```sars-cov2_spike_protein_mRNA.fasta```\n",
    "- ```a2d_mRNA.fasta```\n",
    "- ```VWA_domain.fasta```\n",
    "- ```VWA-like_domain.fasta```\n",
    "- ```cache_domain.fasta```\n",
    "\n",
    "... including this one."
   ]
  },
  {
   "cell_type": "markdown",
   "metadata": {},
   "source": [
    "## Tasks\n",
    "\n",
    "### Parsing the SARS-CoV2 Spike Protein mRNA sequence\n",
    "\n",
    "Parsing is the action of converting one data structure into another. In this case, you will be converting the sequence stored in a text file into a Python string object. \n",
    "\n",
    "1) Use the ```open(...)``` function to import the ```sars-cov2_spike_protein_mRNA.fasta``` file as a Python object.\n",
    "\n",
    "2) Write a function to convert the sequence from the FASTA file into a single string. "
   ]
  },
  {
   "cell_type": "code",
   "execution_count": 30,
   "metadata": {},
   "outputs": [],
   "source": [
    "# Part 1)\n"
   ]
  },
  {
   "cell_type": "code",
   "execution_count": 31,
   "metadata": {},
   "outputs": [],
   "source": [
    "# Part 2)\n",
    "\n",
    "# Function to convert a FASTA file into a DNA sequence string object. \n"
   ]
  },
  {
   "cell_type": "markdown",
   "metadata": {},
   "source": [
    "### Translate the mRNA sequence into its corresponding peptide \n",
    "\n",
    "Translation is the process by which the cell synthesises a protein sequence (a polymer of amino acid residues) according to the ribonucleic acid code of a mRNA molecule. The mRNA sequence contains all the information to code for the primary structure of its protein through the degenerate assignment of amino acids to codons (three RNA base sequences). \n",
    "\n",
    "3) Write a second function to translate this 'exon-less' gene into its corresponding peptide. You can copy  and paste the the amino acid-codon dictionary below into your script. "
   ]
  },
  {
   "cell_type": "code",
   "execution_count": 33,
   "metadata": {},
   "outputs": [],
   "source": [
    "# Codon to amino acid reference table \n",
    "\n",
    "codon_dict = { # https://www.geeksforgeeks.org/dna-protein-python-3/\n",
    "    'ATA':'I', 'ATC':'I', 'ATT':'I', 'ATG':'M', \n",
    "    'ACA':'T', 'ACC':'T', 'ACG':'T', 'ACT':'T', \n",
    "    'AAC':'N', 'AAT':'N', 'AAA':'K', 'AAG':'K', \n",
    "    'AGC':'S', 'AGT':'S', 'AGA':'R', 'AGG':'R',                  \n",
    "    'CTA':'L', 'CTC':'L', 'CTG':'L', 'CTT':'L', \n",
    "    'CCA':'P', 'CCC':'P', 'CCG':'P', 'CCT':'P', \n",
    "    'CAC':'H', 'CAT':'H', 'CAA':'Q', 'CAG':'Q', \n",
    "    'CGA':'R', 'CGC':'R', 'CGG':'R', 'CGT':'R', \n",
    "    'GTA':'V', 'GTC':'V', 'GTG':'V', 'GTT':'V', \n",
    "    'GCA':'A', 'GCC':'A', 'GCG':'A', 'GCT':'A', \n",
    "    'GAC':'D', 'GAT':'D', 'GAA':'E', 'GAG':'E', \n",
    "    'GGA':'G', 'GGC':'G', 'GGG':'G', 'GGT':'G', \n",
    "    'TCA':'S', 'TCC':'S', 'TCG':'S', 'TCT':'S', \n",
    "    'TTC':'F', 'TTT':'F', 'TTA':'L', 'TTG':'L', \n",
    "    'TAC':'Y', 'TAT':'Y', 'TAA':'*', 'TAG':'*', \n",
    "    'TGC':'C', 'TGT':'C', 'TGA':'*', 'TGG':'W', \n",
    "} "
   ]
  },
  {
   "cell_type": "code",
   "execution_count": 34,
   "metadata": {},
   "outputs": [],
   "source": [
    "# Part 3)\n",
    "\n",
    "# Function to translate a given DNA sequence into a peptide sequence\n"
   ]
  },
  {
   "cell_type": "markdown",
   "metadata": {},
   "source": [
    "### Finding all six reading frames\n",
    "\n",
    "Due to the double-stranded, triplicate-nature of DNA, a protein-coding gene can exist across six reading frames (the start to finish stretch of bases that code for the peptide). If this is unfamiliar, spend a minute to consider how this is achieved. \n",
    "\n",
    "4) From the sequence you generated using your first function, create a new function (or set of functions) that return(s) all possible peptides across the gene's six reading frames. How does reversing the sequence affect translation? You can call upon other functions from previous steps (or write additional functions to further abstract the problem) within this new function to save repeating blocks of code."
   ]
  },
  {
   "cell_type": "code",
   "execution_count": 36,
   "metadata": {},
   "outputs": [],
   "source": [
    "# Part 4)\n",
    "\n",
    "# Function to generate the (reverse) complementary strand from a given DNA sequence\n"
   ]
  },
  {
   "cell_type": "code",
   "execution_count": 37,
   "metadata": {},
   "outputs": [],
   "source": [
    "# Part 4)\n",
    "\n",
    "# Function to translate all reading frames (RFs) from a given DNA sequence\n"
   ]
  },
  {
   "cell_type": "markdown",
   "metadata": {},
   "source": [
    "### Searching for motifs \n",
    "\n",
    "Motifs are short stretches of amino acids that are requisite for a protein's function. Often, the rest of the sequence is free to change (mutate) over time, providing its motif residues remain unchanged (conserved). Due to similarities in side chain chemistry of some amino acids and the 3D structure of proteins, motifs can, in reality, mutate. Profiles of position-dependent amino acid frequency can be created for motifs, capturing this tug of war between random mutation and natural selection. For the sake of simplicity, we will only be considering exact matches between query motifs and a given sequence here. \n",
    "\n",
    "5) Write a function that takes in two arguments: a motif and a reference sequence. Both should be treated as strings. The function should search for the motif in the reference sequence and print (or return) the 'start' and 'end' positions of the motif within the reference. NB. Sequence indexes used in biology typically start at +1, whereas Python uses a starting index of 0. \n",
    "\n",
    "6) Open the file ```sars-cov2_arbitrary_motif.fasta``` and parse the motif sequence as a string to a new variable. Using your motif-searching function, what reading frame of the SARS-CoV2 Spike Protein does it exist and what are its start/end positions?"
   ]
  },
  {
   "cell_type": "code",
   "execution_count": 39,
   "metadata": {},
   "outputs": [],
   "source": [
    "# Part 5)\n",
    "\n",
    "# Function to search a given motif for a given motif (both as strings)\n"
   ]
  },
  {
   "cell_type": "code",
   "execution_count": 40,
   "metadata": {},
   "outputs": [
    {
     "name": "stdout",
     "output_type": "stream",
     "text": [
      "Reading frame: 1\n",
      "Reading frame: 2\n",
      "Reading frame: 3\n",
      "Reading frame: 4\n",
      "Reading frame: 5\n",
      "Motif start position: 274\n",
      "Motif end position: 325\n",
      "Reading frame: 6\n"
     ]
    }
   ],
   "source": [
    "# Part 6)\n"
   ]
  },
  {
   "cell_type": "markdown",
   "metadata": {},
   "source": [
    "### Analysing the human protein alpha-2-delta-1\n",
    "\n",
    "7) Using the functions you have written, import the mRNA sequence of the alpha-2-delta-1 protein, translate it in all six reading frames and search for VWA, VWA-like and Cache domains within each peptide sequence. You can find the domain sequences from the following files:\n",
    " - ```VWA_domain.fasta```\n",
    " - ```VWA-like_domain.fasta```\n",
    " - ```chache_domain.fasta```\n",
    " \n",
    "8) With which reading frame do these domains match? What are the start/end positions of the domains in the reading frame(s)?"
   ]
  },
  {
   "cell_type": "code",
   "execution_count": 43,
   "metadata": {},
   "outputs": [],
   "source": [
    "# Part 7)\n"
   ]
  },
  {
   "cell_type": "code",
   "execution_count": 1,
   "metadata": {},
   "outputs": [],
   "source": [
    "# Part 8)\n"
   ]
  },
  {
   "cell_type": "markdown",
   "metadata": {},
   "source": [
    "All of the domains are in RF1"
   ]
  }
 ],
 "metadata": {
  "kernelspec": {
   "display_name": "Python 3",
   "language": "python",
   "name": "python3"
  },
  "language_info": {
   "codemirror_mode": {
    "name": "ipython",
    "version": 3
   },
   "file_extension": ".py",
   "mimetype": "text/x-python",
   "name": "python",
   "nbconvert_exporter": "python",
   "pygments_lexer": "ipython3",
   "version": "3.8.5"
  }
 },
 "nbformat": 4,
 "nbformat_minor": 4
}
